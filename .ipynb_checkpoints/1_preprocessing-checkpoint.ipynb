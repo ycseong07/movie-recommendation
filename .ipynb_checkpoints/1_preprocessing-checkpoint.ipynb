{
 "cells": [
  {
   "cell_type": "code",
   "execution_count": 1,
   "id": "7cb74c89-d489-4105-a7f4-60f33fbb30ca",
   "metadata": {},
   "outputs": [],
   "source": [
    "import pandas as pd\n",
    "import numpy as np\n",
    "import matplotlib.pyplot as plt\n",
    "import seaborn as sns\n",
    "from ast import literal_eval\n",
    "from sklearn.feature_extraction.text import TfidfVectorizer\n",
    "from sklearn.feature_extraction.text import CountVectorizer\n",
    "from sklearn.metrics.pairwise import cosine_similarity"
   ]
  },
  {
   "cell_type": "markdown",
   "id": "d9e7addc-6278-4f13-a48d-438d0016538a",
   "metadata": {},
   "source": [
    "## load data"
   ]
  },
  {
   "cell_type": "code",
   "execution_count": 24,
   "id": "3b2eebee-0f63-4185-9ce2-a76f5eba4970",
   "metadata": {},
   "outputs": [],
   "source": [
    "data = pd.read_csv('./movie_meta.csv')"
   ]
  },
  {
   "cell_type": "code",
   "execution_count": 25,
   "id": "bc7aad4b-8835-46e0-bdf4-6c262c2ba943",
   "metadata": {},
   "outputs": [],
   "source": [
    "data = data[['id','genres', 'vote_average', 'vote_count','popularity','title', 'overview', \"tagline\", \"keywords\"]]"
   ]
  },
  {
   "cell_type": "code",
   "execution_count": 32,
   "id": "0bd2d7fa-8aba-4add-bf5a-fc296ee5f3bc",
   "metadata": {},
   "outputs": [
    {
     "data": {
      "text/plain": [
       "(2001, 9)"
      ]
     },
     "execution_count": 32,
     "metadata": {},
     "output_type": "execute_result"
    }
   ],
   "source": [
    "data.shape"
   ]
  },
  {
   "cell_type": "code",
   "execution_count": 27,
   "id": "7c63e300-bfb7-4091-a9e8-baaa3fad41de",
   "metadata": {},
   "outputs": [
    {
     "data": {
      "text/html": [
       "<div>\n",
       "<style scoped>\n",
       "    .dataframe tbody tr th:only-of-type {\n",
       "        vertical-align: middle;\n",
       "    }\n",
       "\n",
       "    .dataframe tbody tr th {\n",
       "        vertical-align: top;\n",
       "    }\n",
       "\n",
       "    .dataframe thead th {\n",
       "        text-align: right;\n",
       "    }\n",
       "</style>\n",
       "<table border=\"1\" class=\"dataframe\">\n",
       "  <thead>\n",
       "    <tr style=\"text-align: right;\">\n",
       "      <th></th>\n",
       "      <th>id</th>\n",
       "      <th>genres</th>\n",
       "      <th>vote_average</th>\n",
       "      <th>vote_count</th>\n",
       "      <th>popularity</th>\n",
       "      <th>title</th>\n",
       "      <th>overview</th>\n",
       "      <th>tagline</th>\n",
       "      <th>keywords</th>\n",
       "    </tr>\n",
       "  </thead>\n",
       "  <tbody>\n",
       "    <tr>\n",
       "      <th>0</th>\n",
       "      <td>8844</td>\n",
       "      <td>[{'id': 12, 'name': 'Adventure'}, {'id': 14, '...</td>\n",
       "      <td>6.9</td>\n",
       "      <td>2413.0</td>\n",
       "      <td>17.015539</td>\n",
       "      <td>Jumanji</td>\n",
       "      <td>When siblings Judy and Peter discover an encha...</td>\n",
       "      <td>Roll the dice and unleash the excitement!</td>\n",
       "      <td>[{'id': 10090, 'name': 'board game'}, {'id': 1...</td>\n",
       "    </tr>\n",
       "    <tr>\n",
       "      <th>1</th>\n",
       "      <td>15602</td>\n",
       "      <td>[{'id': 10749, 'name': 'Romance'}, {'id': 35, ...</td>\n",
       "      <td>6.5</td>\n",
       "      <td>92.0</td>\n",
       "      <td>11.712900</td>\n",
       "      <td>Grumpier Old Men</td>\n",
       "      <td>A family wedding reignites the ancient feud be...</td>\n",
       "      <td>Still Yelling. Still Fighting. Still Ready for...</td>\n",
       "      <td>[{'id': 1495, 'name': 'fishing'}, {'id': 12392...</td>\n",
       "    </tr>\n",
       "    <tr>\n",
       "      <th>2</th>\n",
       "      <td>31357</td>\n",
       "      <td>[{'id': 35, 'name': 'Comedy'}, {'id': 18, 'nam...</td>\n",
       "      <td>6.1</td>\n",
       "      <td>34.0</td>\n",
       "      <td>3.859495</td>\n",
       "      <td>Waiting to Exhale</td>\n",
       "      <td>Cheated on, mistreated and stepped on, the wom...</td>\n",
       "      <td>Friends are the people who let you be yourself...</td>\n",
       "      <td>[{'id': 818, 'name': 'based on novel'}, {'id':...</td>\n",
       "    </tr>\n",
       "    <tr>\n",
       "      <th>3</th>\n",
       "      <td>11862</td>\n",
       "      <td>[{'id': 35, 'name': 'Comedy'}]</td>\n",
       "      <td>5.7</td>\n",
       "      <td>173.0</td>\n",
       "      <td>8.387519</td>\n",
       "      <td>Father of the Bride Part II</td>\n",
       "      <td>Just when George Banks has recovered from his ...</td>\n",
       "      <td>Just When His World Is Back To Normal... He's ...</td>\n",
       "      <td>[{'id': 1009, 'name': 'baby'}, {'id': 1599, 'n...</td>\n",
       "    </tr>\n",
       "    <tr>\n",
       "      <th>4</th>\n",
       "      <td>949</td>\n",
       "      <td>[{'id': 28, 'name': 'Action'}, {'id': 80, 'nam...</td>\n",
       "      <td>7.7</td>\n",
       "      <td>1886.0</td>\n",
       "      <td>17.924927</td>\n",
       "      <td>Heat</td>\n",
       "      <td>Obsessive master thief, Neil McCauley leads a ...</td>\n",
       "      <td>A Los Angeles Crime Saga</td>\n",
       "      <td>[{'id': 642, 'name': 'robbery'}, {'id': 703, '...</td>\n",
       "    </tr>\n",
       "  </tbody>\n",
       "</table>\n",
       "</div>"
      ],
      "text/plain": [
       "      id                                             genres  vote_average  \\\n",
       "0   8844  [{'id': 12, 'name': 'Adventure'}, {'id': 14, '...           6.9   \n",
       "1  15602  [{'id': 10749, 'name': 'Romance'}, {'id': 35, ...           6.5   \n",
       "2  31357  [{'id': 35, 'name': 'Comedy'}, {'id': 18, 'nam...           6.1   \n",
       "3  11862                     [{'id': 35, 'name': 'Comedy'}]           5.7   \n",
       "4    949  [{'id': 28, 'name': 'Action'}, {'id': 80, 'nam...           7.7   \n",
       "\n",
       "   vote_count  popularity                        title  \\\n",
       "0      2413.0   17.015539                      Jumanji   \n",
       "1        92.0   11.712900             Grumpier Old Men   \n",
       "2        34.0    3.859495            Waiting to Exhale   \n",
       "3       173.0    8.387519  Father of the Bride Part II   \n",
       "4      1886.0   17.924927                         Heat   \n",
       "\n",
       "                                            overview  \\\n",
       "0  When siblings Judy and Peter discover an encha...   \n",
       "1  A family wedding reignites the ancient feud be...   \n",
       "2  Cheated on, mistreated and stepped on, the wom...   \n",
       "3  Just when George Banks has recovered from his ...   \n",
       "4  Obsessive master thief, Neil McCauley leads a ...   \n",
       "\n",
       "                                             tagline  \\\n",
       "0          Roll the dice and unleash the excitement!   \n",
       "1  Still Yelling. Still Fighting. Still Ready for...   \n",
       "2  Friends are the people who let you be yourself...   \n",
       "3  Just When His World Is Back To Normal... He's ...   \n",
       "4                           A Los Angeles Crime Saga   \n",
       "\n",
       "                                            keywords  \n",
       "0  [{'id': 10090, 'name': 'board game'}, {'id': 1...  \n",
       "1  [{'id': 1495, 'name': 'fishing'}, {'id': 12392...  \n",
       "2  [{'id': 818, 'name': 'based on novel'}, {'id':...  \n",
       "3  [{'id': 1009, 'name': 'baby'}, {'id': 1599, 'n...  \n",
       "4  [{'id': 642, 'name': 'robbery'}, {'id': 703, '...  "
      ]
     },
     "execution_count": 27,
     "metadata": {},
     "output_type": "execute_result"
    }
   ],
   "source": [
    "data.head()"
   ]
  },
  {
   "cell_type": "markdown",
   "id": "f9db0b9e-6e65-42cd-9380-4f42b8927bf8",
   "metadata": {},
   "source": [
    "## Create weighted score and sort top 20% of data"
   ]
  },
  {
   "cell_type": "code",
   "execution_count": 28,
   "id": "22a3d634-f990-45d9-9100-6c6c23fb1ac8",
   "metadata": {},
   "outputs": [
    {
     "data": {
      "text/plain": [
       "262.0"
      ]
     },
     "execution_count": 28,
     "metadata": {},
     "output_type": "execute_result"
    }
   ],
   "source": [
    "tmp_m = data['vote_count'].quantile(0.8)\n",
    "tmp_m"
   ]
  },
  {
   "cell_type": "code",
   "execution_count": 29,
   "id": "cec8ea15-5aa9-40b5-ab23-1f4d0764db83",
   "metadata": {},
   "outputs": [
    {
     "data": {
      "text/plain": [
       "(2001, 9)"
      ]
     },
     "execution_count": 29,
     "metadata": {},
     "output_type": "execute_result"
    }
   ],
   "source": [
    "tmp_data = data.copy().loc[data['vote_count'] >= tmp_m]\n",
    "tmp_data.shape"
   ]
  },
  {
   "cell_type": "code",
   "execution_count": 30,
   "id": "5cf38c8d-513d-4b85-93bd-4fe1e4f1cb77",
   "metadata": {},
   "outputs": [],
   "source": [
    "del tmp_data\n",
    "\n",
    "m = data['vote_count'].quantile(0.8)\n",
    "data = data.loc[data['vote_count'] >= m]"
   ]
  },
  {
   "cell_type": "code",
   "execution_count": 31,
   "id": "1b7d6e3c-53cf-4478-83d2-1c71f2699b1e",
   "metadata": {},
   "outputs": [
    {
     "data": {
      "text/html": [
       "<div>\n",
       "<style scoped>\n",
       "    .dataframe tbody tr th:only-of-type {\n",
       "        vertical-align: middle;\n",
       "    }\n",
       "\n",
       "    .dataframe tbody tr th {\n",
       "        vertical-align: top;\n",
       "    }\n",
       "\n",
       "    .dataframe thead th {\n",
       "        text-align: right;\n",
       "    }\n",
       "</style>\n",
       "<table border=\"1\" class=\"dataframe\">\n",
       "  <thead>\n",
       "    <tr style=\"text-align: right;\">\n",
       "      <th></th>\n",
       "      <th>id</th>\n",
       "      <th>genres</th>\n",
       "      <th>vote_average</th>\n",
       "      <th>vote_count</th>\n",
       "      <th>popularity</th>\n",
       "      <th>title</th>\n",
       "      <th>overview</th>\n",
       "      <th>tagline</th>\n",
       "      <th>keywords</th>\n",
       "    </tr>\n",
       "  </thead>\n",
       "  <tbody>\n",
       "    <tr>\n",
       "      <th>0</th>\n",
       "      <td>8844</td>\n",
       "      <td>[{'id': 12, 'name': 'Adventure'}, {'id': 14, '...</td>\n",
       "      <td>6.9</td>\n",
       "      <td>2413.0</td>\n",
       "      <td>17.015539</td>\n",
       "      <td>Jumanji</td>\n",
       "      <td>When siblings Judy and Peter discover an encha...</td>\n",
       "      <td>Roll the dice and unleash the excitement!</td>\n",
       "      <td>[{'id': 10090, 'name': 'board game'}, {'id': 1...</td>\n",
       "    </tr>\n",
       "    <tr>\n",
       "      <th>4</th>\n",
       "      <td>949</td>\n",
       "      <td>[{'id': 28, 'name': 'Action'}, {'id': 80, 'nam...</td>\n",
       "      <td>7.7</td>\n",
       "      <td>1886.0</td>\n",
       "      <td>17.924927</td>\n",
       "      <td>Heat</td>\n",
       "      <td>Obsessive master thief, Neil McCauley leads a ...</td>\n",
       "      <td>A Los Angeles Crime Saga</td>\n",
       "      <td>[{'id': 642, 'name': 'robbery'}, {'id': 703, '...</td>\n",
       "    </tr>\n",
       "    <tr>\n",
       "      <th>8</th>\n",
       "      <td>710</td>\n",
       "      <td>[{'id': 12, 'name': 'Adventure'}, {'id': 28, '...</td>\n",
       "      <td>6.6</td>\n",
       "      <td>1194.0</td>\n",
       "      <td>14.686036</td>\n",
       "      <td>GoldenEye</td>\n",
       "      <td>James Bond must unmask the mysterious head of ...</td>\n",
       "      <td>No limits. No fears. No substitutes.</td>\n",
       "      <td>[{'id': 701, 'name': 'cuba'}, {'id': 769, 'nam...</td>\n",
       "    </tr>\n",
       "    <tr>\n",
       "      <th>10</th>\n",
       "      <td>21032</td>\n",
       "      <td>[{'id': 10751, 'name': 'Family'}, {'id': 16, '...</td>\n",
       "      <td>7.1</td>\n",
       "      <td>423.0</td>\n",
       "      <td>12.140733</td>\n",
       "      <td>Balto</td>\n",
       "      <td>An outcast half-wolf risks his life to prevent...</td>\n",
       "      <td>Part Dog. Part Wolf. All Hero.</td>\n",
       "      <td>[{'id': 1994, 'name': 'wolf'}, {'id': 6411, 'n...</td>\n",
       "    </tr>\n",
       "    <tr>\n",
       "      <th>13</th>\n",
       "      <td>524</td>\n",
       "      <td>[{'id': 18, 'name': 'Drama'}, {'id': 80, 'name...</td>\n",
       "      <td>7.8</td>\n",
       "      <td>1343.0</td>\n",
       "      <td>10.137389</td>\n",
       "      <td>Casino</td>\n",
       "      <td>The life of the gambling paradise – Las Vegas ...</td>\n",
       "      <td>No one stays at the top forever.</td>\n",
       "      <td>[{'id': 383, 'name': 'poker'}, {'id': 726, 'na...</td>\n",
       "    </tr>\n",
       "  </tbody>\n",
       "</table>\n",
       "</div>"
      ],
      "text/plain": [
       "       id                                             genres  vote_average  \\\n",
       "0    8844  [{'id': 12, 'name': 'Adventure'}, {'id': 14, '...           6.9   \n",
       "4     949  [{'id': 28, 'name': 'Action'}, {'id': 80, 'nam...           7.7   \n",
       "8     710  [{'id': 12, 'name': 'Adventure'}, {'id': 28, '...           6.6   \n",
       "10  21032  [{'id': 10751, 'name': 'Family'}, {'id': 16, '...           7.1   \n",
       "13    524  [{'id': 18, 'name': 'Drama'}, {'id': 80, 'name...           7.8   \n",
       "\n",
       "    vote_count  popularity      title  \\\n",
       "0       2413.0   17.015539    Jumanji   \n",
       "4       1886.0   17.924927       Heat   \n",
       "8       1194.0   14.686036  GoldenEye   \n",
       "10       423.0   12.140733      Balto   \n",
       "13      1343.0   10.137389     Casino   \n",
       "\n",
       "                                             overview  \\\n",
       "0   When siblings Judy and Peter discover an encha...   \n",
       "4   Obsessive master thief, Neil McCauley leads a ...   \n",
       "8   James Bond must unmask the mysterious head of ...   \n",
       "10  An outcast half-wolf risks his life to prevent...   \n",
       "13  The life of the gambling paradise – Las Vegas ...   \n",
       "\n",
       "                                      tagline  \\\n",
       "0   Roll the dice and unleash the excitement!   \n",
       "4                    A Los Angeles Crime Saga   \n",
       "8        No limits. No fears. No substitutes.   \n",
       "10             Part Dog. Part Wolf. All Hero.   \n",
       "13           No one stays at the top forever.   \n",
       "\n",
       "                                             keywords  \n",
       "0   [{'id': 10090, 'name': 'board game'}, {'id': 1...  \n",
       "4   [{'id': 642, 'name': 'robbery'}, {'id': 703, '...  \n",
       "8   [{'id': 701, 'name': 'cuba'}, {'id': 769, 'nam...  \n",
       "10  [{'id': 1994, 'name': 'wolf'}, {'id': 6411, 'n...  \n",
       "13  [{'id': 383, 'name': 'poker'}, {'id': 726, 'na...  "
      ]
     },
     "execution_count": 31,
     "metadata": {},
     "output_type": "execute_result"
    }
   ],
   "source": [
    "data.head()"
   ]
  },
  {
   "cell_type": "code",
   "execution_count": 33,
   "id": "02ad9a05-7b17-45bd-ae60-9ddc6a66cb07",
   "metadata": {},
   "outputs": [],
   "source": [
    "C = data['vote_average'].mean()"
   ]
  },
  {
   "cell_type": "code",
   "execution_count": 34,
   "id": "0986b8e3-5cbc-4f7a-8e97-d86fab726d7e",
   "metadata": {},
   "outputs": [
    {
     "name": "stdout",
     "output_type": "stream",
     "text": [
      "6.585607196401798\n",
      "262.0\n"
     ]
    }
   ],
   "source": [
    "print(C)\n",
    "print(m)"
   ]
  },
  {
   "cell_type": "code",
   "execution_count": 35,
   "id": "c1a3f850-68c4-44a3-9174-a3a91787c92a",
   "metadata": {},
   "outputs": [],
   "source": [
    "def weighted_rating(x, m=m, C=C):\n",
    "    v = x['vote_count']\n",
    "    R = x['vote_average']\n",
    "    \n",
    "    return ( v / (v+m) * R ) + (m / (m + v) * C)"
   ]
  },
  {
   "cell_type": "code",
   "execution_count": 36,
   "id": "914de69a-bebb-4100-9d37-754a328999f3",
   "metadata": {},
   "outputs": [],
   "source": [
    "data.loc[:, 'score'] = data.apply(weighted_rating, axis = 1)"
   ]
  },
  {
   "cell_type": "code",
   "execution_count": 37,
   "id": "0aebcbaf-98fe-482e-b988-11316f19d8dd",
   "metadata": {},
   "outputs": [
    {
     "data": {
      "text/html": [
       "<div>\n",
       "<style scoped>\n",
       "    .dataframe tbody tr th:only-of-type {\n",
       "        vertical-align: middle;\n",
       "    }\n",
       "\n",
       "    .dataframe tbody tr th {\n",
       "        vertical-align: top;\n",
       "    }\n",
       "\n",
       "    .dataframe thead th {\n",
       "        text-align: right;\n",
       "    }\n",
       "</style>\n",
       "<table border=\"1\" class=\"dataframe\">\n",
       "  <thead>\n",
       "    <tr style=\"text-align: right;\">\n",
       "      <th></th>\n",
       "      <th>id</th>\n",
       "      <th>genres</th>\n",
       "      <th>vote_average</th>\n",
       "      <th>vote_count</th>\n",
       "      <th>popularity</th>\n",
       "      <th>title</th>\n",
       "      <th>overview</th>\n",
       "      <th>tagline</th>\n",
       "      <th>keywords</th>\n",
       "      <th>score</th>\n",
       "    </tr>\n",
       "  </thead>\n",
       "  <tbody>\n",
       "    <tr>\n",
       "      <th>0</th>\n",
       "      <td>8844</td>\n",
       "      <td>[{'id': 12, 'name': 'Adventure'}, {'id': 14, '...</td>\n",
       "      <td>6.9</td>\n",
       "      <td>2413.0</td>\n",
       "      <td>17.015539</td>\n",
       "      <td>Jumanji</td>\n",
       "      <td>When siblings Judy and Peter discover an encha...</td>\n",
       "      <td>Roll the dice and unleash the excitement!</td>\n",
       "      <td>[{'id': 10090, 'name': 'board game'}, {'id': 1...</td>\n",
       "      <td>6.869207</td>\n",
       "    </tr>\n",
       "    <tr>\n",
       "      <th>4</th>\n",
       "      <td>949</td>\n",
       "      <td>[{'id': 28, 'name': 'Action'}, {'id': 80, 'nam...</td>\n",
       "      <td>7.7</td>\n",
       "      <td>1886.0</td>\n",
       "      <td>17.924927</td>\n",
       "      <td>Heat</td>\n",
       "      <td>Obsessive master thief, Neil McCauley leads a ...</td>\n",
       "      <td>A Los Angeles Crime Saga</td>\n",
       "      <td>[{'id': 642, 'name': 'robbery'}, {'id': 703, '...</td>\n",
       "      <td>7.564073</td>\n",
       "    </tr>\n",
       "    <tr>\n",
       "      <th>8</th>\n",
       "      <td>710</td>\n",
       "      <td>[{'id': 12, 'name': 'Adventure'}, {'id': 28, '...</td>\n",
       "      <td>6.6</td>\n",
       "      <td>1194.0</td>\n",
       "      <td>14.686036</td>\n",
       "      <td>GoldenEye</td>\n",
       "      <td>James Bond must unmask the mysterious head of ...</td>\n",
       "      <td>No limits. No fears. No substitutes.</td>\n",
       "      <td>[{'id': 701, 'name': 'cuba'}, {'id': 769, 'nam...</td>\n",
       "      <td>6.597410</td>\n",
       "    </tr>\n",
       "    <tr>\n",
       "      <th>10</th>\n",
       "      <td>21032</td>\n",
       "      <td>[{'id': 10751, 'name': 'Family'}, {'id': 16, '...</td>\n",
       "      <td>7.1</td>\n",
       "      <td>423.0</td>\n",
       "      <td>12.140733</td>\n",
       "      <td>Balto</td>\n",
       "      <td>An outcast half-wolf risks his life to prevent...</td>\n",
       "      <td>Part Dog. Part Wolf. All Hero.</td>\n",
       "      <td>[{'id': 1994, 'name': 'wolf'}, {'id': 6411, 'n...</td>\n",
       "      <td>6.903254</td>\n",
       "    </tr>\n",
       "    <tr>\n",
       "      <th>13</th>\n",
       "      <td>524</td>\n",
       "      <td>[{'id': 18, 'name': 'Drama'}, {'id': 80, 'name...</td>\n",
       "      <td>7.8</td>\n",
       "      <td>1343.0</td>\n",
       "      <td>10.137389</td>\n",
       "      <td>Casino</td>\n",
       "      <td>The life of the gambling paradise – Las Vegas ...</td>\n",
       "      <td>No one stays at the top forever.</td>\n",
       "      <td>[{'id': 383, 'name': 'poker'}, {'id': 726, 'na...</td>\n",
       "      <td>7.601763</td>\n",
       "    </tr>\n",
       "  </tbody>\n",
       "</table>\n",
       "</div>"
      ],
      "text/plain": [
       "       id                                             genres  vote_average  \\\n",
       "0    8844  [{'id': 12, 'name': 'Adventure'}, {'id': 14, '...           6.9   \n",
       "4     949  [{'id': 28, 'name': 'Action'}, {'id': 80, 'nam...           7.7   \n",
       "8     710  [{'id': 12, 'name': 'Adventure'}, {'id': 28, '...           6.6   \n",
       "10  21032  [{'id': 10751, 'name': 'Family'}, {'id': 16, '...           7.1   \n",
       "13    524  [{'id': 18, 'name': 'Drama'}, {'id': 80, 'name...           7.8   \n",
       "\n",
       "    vote_count  popularity      title  \\\n",
       "0       2413.0   17.015539    Jumanji   \n",
       "4       1886.0   17.924927       Heat   \n",
       "8       1194.0   14.686036  GoldenEye   \n",
       "10       423.0   12.140733      Balto   \n",
       "13      1343.0   10.137389     Casino   \n",
       "\n",
       "                                             overview  \\\n",
       "0   When siblings Judy and Peter discover an encha...   \n",
       "4   Obsessive master thief, Neil McCauley leads a ...   \n",
       "8   James Bond must unmask the mysterious head of ...   \n",
       "10  An outcast half-wolf risks his life to prevent...   \n",
       "13  The life of the gambling paradise – Las Vegas ...   \n",
       "\n",
       "                                      tagline  \\\n",
       "0   Roll the dice and unleash the excitement!   \n",
       "4                    A Los Angeles Crime Saga   \n",
       "8        No limits. No fears. No substitutes.   \n",
       "10             Part Dog. Part Wolf. All Hero.   \n",
       "13           No one stays at the top forever.   \n",
       "\n",
       "                                             keywords     score  \n",
       "0   [{'id': 10090, 'name': 'board game'}, {'id': 1...  6.869207  \n",
       "4   [{'id': 642, 'name': 'robbery'}, {'id': 703, '...  7.564073  \n",
       "8   [{'id': 701, 'name': 'cuba'}, {'id': 769, 'nam...  6.597410  \n",
       "10  [{'id': 1994, 'name': 'wolf'}, {'id': 6411, 'n...  6.903254  \n",
       "13  [{'id': 383, 'name': 'poker'}, {'id': 726, 'na...  7.601763  "
      ]
     },
     "execution_count": 37,
     "metadata": {},
     "output_type": "execute_result"
    }
   ],
   "source": [
    "data.head()"
   ]
  },
  {
   "cell_type": "code",
   "execution_count": 39,
   "id": "287aa7b1-2397-40c7-a044-6c72f09d84e9",
   "metadata": {},
   "outputs": [
    {
     "data": {
      "text/plain": [
       "(2001, 10)"
      ]
     },
     "execution_count": 39,
     "metadata": {},
     "output_type": "execute_result"
    }
   ],
   "source": [
    "data.shape"
   ]
  },
  {
   "cell_type": "markdown",
   "id": "44f69b13-3fed-4e2a-bed7-d5b02159ee9a",
   "metadata": {},
   "source": [
    "## Extract genres and keywords as string (dic to str)"
   ]
  },
  {
   "cell_type": "code",
   "execution_count": 40,
   "id": "045c2d0d-6037-4b2e-bd0d-259899a5cd70",
   "metadata": {},
   "outputs": [],
   "source": [
    "data.loc[:,('genres', 'keywords')] = data[['genres', 'keywords']].astype(\"string\")"
   ]
  },
  {
   "cell_type": "code",
   "execution_count": 41,
   "id": "3d92a5d5-ca1a-4523-bfad-1458404429c8",
   "metadata": {},
   "outputs": [],
   "source": [
    "data = data.dropna()"
   ]
  },
  {
   "cell_type": "code",
   "execution_count": 42,
   "id": "719545d5-bb4b-46e3-8fc6-d42b34eeb0b7",
   "metadata": {},
   "outputs": [],
   "source": [
    "data.loc[:,'genres'] = data['genres'].apply(literal_eval)\n",
    "data.loc[:,'keywords'] = data['keywords'].apply(literal_eval)"
   ]
  },
  {
   "cell_type": "code",
   "execution_count": 43,
   "id": "c559898e-6157-43a3-9a47-055247082ab6",
   "metadata": {
    "tags": []
   },
   "outputs": [],
   "source": [
    "data.loc[:,'genres'] = data['genres'].apply(lambda x : [d['name'] for d in x]).apply(lambda x : \" \".join(x))\n",
    "data.loc[:,'keywords'] = data['keywords'].apply(lambda x : [d['name'] for d in x]).apply(lambda x : \" \".join(x))"
   ]
  },
  {
   "cell_type": "code",
   "execution_count": 45,
   "id": "1127e623-4194-4f9e-9696-4e9c65865823",
   "metadata": {
    "tags": []
   },
   "outputs": [
    {
     "data": {
      "text/html": [
       "<div>\n",
       "<style scoped>\n",
       "    .dataframe tbody tr th:only-of-type {\n",
       "        vertical-align: middle;\n",
       "    }\n",
       "\n",
       "    .dataframe tbody tr th {\n",
       "        vertical-align: top;\n",
       "    }\n",
       "\n",
       "    .dataframe thead th {\n",
       "        text-align: right;\n",
       "    }\n",
       "</style>\n",
       "<table border=\"1\" class=\"dataframe\">\n",
       "  <thead>\n",
       "    <tr style=\"text-align: right;\">\n",
       "      <th></th>\n",
       "      <th>id</th>\n",
       "      <th>genres</th>\n",
       "      <th>vote_average</th>\n",
       "      <th>vote_count</th>\n",
       "      <th>popularity</th>\n",
       "      <th>title</th>\n",
       "      <th>overview</th>\n",
       "      <th>tagline</th>\n",
       "      <th>keywords</th>\n",
       "      <th>score</th>\n",
       "    </tr>\n",
       "  </thead>\n",
       "  <tbody>\n",
       "    <tr>\n",
       "      <th>0</th>\n",
       "      <td>8844</td>\n",
       "      <td>Adventure Fantasy Family</td>\n",
       "      <td>6.9</td>\n",
       "      <td>2413.0</td>\n",
       "      <td>17.015539</td>\n",
       "      <td>Jumanji</td>\n",
       "      <td>When siblings Judy and Peter discover an encha...</td>\n",
       "      <td>Roll the dice and unleash the excitement!</td>\n",
       "      <td>board game disappearance based on children's b...</td>\n",
       "      <td>6.869207</td>\n",
       "    </tr>\n",
       "    <tr>\n",
       "      <th>4</th>\n",
       "      <td>949</td>\n",
       "      <td>Action Crime Drama Thriller</td>\n",
       "      <td>7.7</td>\n",
       "      <td>1886.0</td>\n",
       "      <td>17.924927</td>\n",
       "      <td>Heat</td>\n",
       "      <td>Obsessive master thief, Neil McCauley leads a ...</td>\n",
       "      <td>A Los Angeles Crime Saga</td>\n",
       "      <td>robbery detective bank obsession chase shootin...</td>\n",
       "      <td>7.564073</td>\n",
       "    </tr>\n",
       "    <tr>\n",
       "      <th>8</th>\n",
       "      <td>710</td>\n",
       "      <td>Adventure Action Thriller</td>\n",
       "      <td>6.6</td>\n",
       "      <td>1194.0</td>\n",
       "      <td>14.686036</td>\n",
       "      <td>GoldenEye</td>\n",
       "      <td>James Bond must unmask the mysterious head of ...</td>\n",
       "      <td>No limits. No fears. No substitutes.</td>\n",
       "      <td>cuba falsely accused secret identity computer ...</td>\n",
       "      <td>6.597410</td>\n",
       "    </tr>\n",
       "    <tr>\n",
       "      <th>10</th>\n",
       "      <td>21032</td>\n",
       "      <td>Family Animation Adventure</td>\n",
       "      <td>7.1</td>\n",
       "      <td>423.0</td>\n",
       "      <td>12.140733</td>\n",
       "      <td>Balto</td>\n",
       "      <td>An outcast half-wolf risks his life to prevent...</td>\n",
       "      <td>Part Dog. Part Wolf. All Hero.</td>\n",
       "      <td>wolf dog-sledding race alaska dog goose bear a...</td>\n",
       "      <td>6.903254</td>\n",
       "    </tr>\n",
       "    <tr>\n",
       "      <th>13</th>\n",
       "      <td>524</td>\n",
       "      <td>Drama Crime</td>\n",
       "      <td>7.8</td>\n",
       "      <td>1343.0</td>\n",
       "      <td>10.137389</td>\n",
       "      <td>Casino</td>\n",
       "      <td>The life of the gambling paradise – Las Vegas ...</td>\n",
       "      <td>No one stays at the top forever.</td>\n",
       "      <td>poker drug abuse 1970s overdose illegal prosti...</td>\n",
       "      <td>7.601763</td>\n",
       "    </tr>\n",
       "  </tbody>\n",
       "</table>\n",
       "</div>"
      ],
      "text/plain": [
       "       id                       genres  vote_average  vote_count  popularity  \\\n",
       "0    8844     Adventure Fantasy Family           6.9      2413.0   17.015539   \n",
       "4     949  Action Crime Drama Thriller           7.7      1886.0   17.924927   \n",
       "8     710    Adventure Action Thriller           6.6      1194.0   14.686036   \n",
       "10  21032   Family Animation Adventure           7.1       423.0   12.140733   \n",
       "13    524                  Drama Crime           7.8      1343.0   10.137389   \n",
       "\n",
       "        title                                           overview  \\\n",
       "0     Jumanji  When siblings Judy and Peter discover an encha...   \n",
       "4        Heat  Obsessive master thief, Neil McCauley leads a ...   \n",
       "8   GoldenEye  James Bond must unmask the mysterious head of ...   \n",
       "10      Balto  An outcast half-wolf risks his life to prevent...   \n",
       "13     Casino  The life of the gambling paradise – Las Vegas ...   \n",
       "\n",
       "                                      tagline  \\\n",
       "0   Roll the dice and unleash the excitement!   \n",
       "4                    A Los Angeles Crime Saga   \n",
       "8        No limits. No fears. No substitutes.   \n",
       "10             Part Dog. Part Wolf. All Hero.   \n",
       "13           No one stays at the top forever.   \n",
       "\n",
       "                                             keywords     score  \n",
       "0   board game disappearance based on children's b...  6.869207  \n",
       "4   robbery detective bank obsession chase shootin...  7.564073  \n",
       "8   cuba falsely accused secret identity computer ...  6.597410  \n",
       "10  wolf dog-sledding race alaska dog goose bear a...  6.903254  \n",
       "13  poker drug abuse 1970s overdose illegal prosti...  7.601763  "
      ]
     },
     "execution_count": 45,
     "metadata": {},
     "output_type": "execute_result"
    }
   ],
   "source": [
    "data.head()"
   ]
  },
  {
   "cell_type": "code",
   "execution_count": 46,
   "id": "68e3ab7a-7e76-425e-9aea-3368e3f8d310",
   "metadata": {},
   "outputs": [],
   "source": [
    "data.to_csv('./movie_preprocessed.csv', index = False)"
   ]
  },
  {
   "cell_type": "code",
   "execution_count": null,
   "id": "5bc47311-9f5e-465d-bd20-38556f98dac7",
   "metadata": {},
   "outputs": [],
   "source": []
  }
 ],
 "metadata": {
  "kernelspec": {
   "display_name": "Python 3 (ipykernel)",
   "language": "python",
   "name": "python3"
  },
  "language_info": {
   "codemirror_mode": {
    "name": "ipython",
    "version": 3
   },
   "file_extension": ".py",
   "mimetype": "text/x-python",
   "name": "python",
   "nbconvert_exporter": "python",
   "pygments_lexer": "ipython3",
   "version": "3.9.10"
  }
 },
 "nbformat": 4,
 "nbformat_minor": 5
}
